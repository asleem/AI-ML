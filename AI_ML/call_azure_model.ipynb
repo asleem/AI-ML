{
 "cells": [
  {
   "cell_type": "code",
   "execution_count": 1,
   "id": "e13b2119-86b4-4c22-a691-c51a612c0dbe",
   "metadata": {},
   "outputs": [
    {
     "name": "stdout",
     "output_type": "stream",
     "text": [
      "Requirement already satisfied: transformers in /opt/anaconda3/lib/python3.12/site-packages (4.47.1)\n",
      "Requirement already satisfied: azure-storage-blob in /opt/anaconda3/lib/python3.12/site-packages (12.24.1)\n",
      "Requirement already satisfied: torch in /opt/anaconda3/lib/python3.12/site-packages (2.2.2)\n",
      "Requirement already satisfied: filelock in /opt/anaconda3/lib/python3.12/site-packages (from transformers) (3.13.1)\n",
      "Requirement already satisfied: huggingface-hub<1.0,>=0.24.0 in /opt/anaconda3/lib/python3.12/site-packages (from transformers) (0.27.1)\n",
      "Requirement already satisfied: numpy>=1.17 in /opt/anaconda3/lib/python3.12/site-packages (from transformers) (1.26.4)\n",
      "Requirement already satisfied: packaging>=20.0 in /opt/anaconda3/lib/python3.12/site-packages (from transformers) (23.2)\n",
      "Requirement already satisfied: pyyaml>=5.1 in /opt/anaconda3/lib/python3.12/site-packages (from transformers) (6.0.1)\n",
      "Requirement already satisfied: regex!=2019.12.17 in /opt/anaconda3/lib/python3.12/site-packages (from transformers) (2023.10.3)\n",
      "Requirement already satisfied: requests in /opt/anaconda3/lib/python3.12/site-packages (from transformers) (2.32.2)\n",
      "Requirement already satisfied: tokenizers<0.22,>=0.21 in /opt/anaconda3/lib/python3.12/site-packages (from transformers) (0.21.0)\n",
      "Requirement already satisfied: safetensors>=0.4.1 in /opt/anaconda3/lib/python3.12/site-packages (from transformers) (0.5.0)\n",
      "Requirement already satisfied: tqdm>=4.27 in /opt/anaconda3/lib/python3.12/site-packages (from transformers) (4.66.4)\n",
      "Requirement already satisfied: azure-core>=1.30.0 in /opt/anaconda3/lib/python3.12/site-packages (from azure-storage-blob) (1.32.0)\n",
      "Requirement already satisfied: cryptography>=2.1.4 in /opt/anaconda3/lib/python3.12/site-packages (from azure-storage-blob) (42.0.5)\n",
      "Requirement already satisfied: typing-extensions>=4.6.0 in /opt/anaconda3/lib/python3.12/site-packages (from azure-storage-blob) (4.11.0)\n",
      "Requirement already satisfied: isodate>=0.6.1 in /opt/anaconda3/lib/python3.12/site-packages (from azure-storage-blob) (0.7.2)\n",
      "Requirement already satisfied: sympy in /opt/anaconda3/lib/python3.12/site-packages (from torch) (1.12)\n",
      "Requirement already satisfied: networkx in /opt/anaconda3/lib/python3.12/site-packages (from torch) (3.2.1)\n",
      "Requirement already satisfied: jinja2 in /opt/anaconda3/lib/python3.12/site-packages (from torch) (3.1.4)\n",
      "Requirement already satisfied: fsspec in /opt/anaconda3/lib/python3.12/site-packages (from torch) (2024.3.1)\n",
      "Requirement already satisfied: six>=1.11.0 in /opt/anaconda3/lib/python3.12/site-packages (from azure-core>=1.30.0->azure-storage-blob) (1.16.0)\n",
      "Requirement already satisfied: cffi>=1.12 in /opt/anaconda3/lib/python3.12/site-packages (from cryptography>=2.1.4->azure-storage-blob) (1.16.0)\n",
      "Requirement already satisfied: charset-normalizer<4,>=2 in /opt/anaconda3/lib/python3.12/site-packages (from requests->transformers) (2.0.4)\n",
      "Requirement already satisfied: idna<4,>=2.5 in /opt/anaconda3/lib/python3.12/site-packages (from requests->transformers) (3.7)\n",
      "Requirement already satisfied: urllib3<3,>=1.21.1 in /opt/anaconda3/lib/python3.12/site-packages (from requests->transformers) (2.2.2)\n",
      "Requirement already satisfied: certifi>=2017.4.17 in /opt/anaconda3/lib/python3.12/site-packages (from requests->transformers) (2024.8.30)\n",
      "Requirement already satisfied: MarkupSafe>=2.0 in /opt/anaconda3/lib/python3.12/site-packages (from jinja2->torch) (2.1.3)\n",
      "Requirement already satisfied: mpmath>=0.19 in /opt/anaconda3/lib/python3.12/site-packages (from sympy->torch) (1.3.0)\n",
      "Requirement already satisfied: pycparser in /opt/anaconda3/lib/python3.12/site-packages (from cffi>=1.12->cryptography>=2.1.4->azure-storage-blob) (2.21)\n"
     ]
    }
   ],
   "source": [
    "# Install required libraries\n",
    "!pip install transformers azure-storage-blob torch"
   ]
  },
  {
   "cell_type": "code",
   "execution_count": 2,
   "id": "43909351-c49d-4b4e-8fb0-9c8c41c9e91f",
   "metadata": {},
   "outputs": [],
   "source": [
    "# Import required modules\n",
    "from azure.storage.blob import BlobServiceClient\n",
    "from transformers import AutoModelForQuestionAnswering, AutoTokenizer, pipeline\n",
    "import tempfile\n",
    "import os"
   ]
  },
  {
   "cell_type": "code",
   "execution_count": 3,
   "id": "00c6f2d6-667c-431e-a47b-baa8a080a226",
   "metadata": {},
   "outputs": [],
   "source": [
    "# Step 1: Azure Blob Storage Connection\n",
    "connection_string = \"\"  # Replace with your Azure Storage connection string\n",
    "container_name = \"ml-poc-container\"  # Replace with the container name where the model is stored\n",
    "model_files = [\"config.json\", \"tokenizer.json\", \"tokenizer_config.json\", \"special_tokens_map.json\", \"vocab.txt\", \"model.safetensors\"]\n"
   ]
  },
  {
   "cell_type": "code",
   "execution_count": 8,
   "id": "84b6d92b-617c-46ce-8871-5ee6f8b201b2",
   "metadata": {},
   "outputs": [
    {
     "name": "stderr",
     "output_type": "stream",
     "text": [
      "Device set to use mps:0\n"
     ]
    },
    {
     "name": "stdout",
     "output_type": "stream",
     "text": [
      "Question: What is LLM?\n",
      "Answer: Large Language Models\n"
     ]
    }
   ],
   "source": [
    "# Step 2: Fetch Model Files from Azure Blob Storage and Write to a Temporary Directory\n",
    "blob_service_client = BlobServiceClient.from_connection_string(connection_string)\n",
    "container_client = blob_service_client.get_container_client(container_name)\n",
    "\n",
    "with tempfile.TemporaryDirectory() as temp_dir:\n",
    "    for file_name in model_files:\n",
    "        blob_client = container_client.get_blob_client(file_name)\n",
    "        file_data = blob_client.download_blob().readall()  # Read file directly into memory\n",
    "        temp_file_path = os.path.join(temp_dir, file_name)\n",
    "        \n",
    "        # Write file to the temporary directory\n",
    "        with open(temp_file_path, \"wb\") as temp_file:\n",
    "            temp_file.write(file_data)\n",
    "    \n",
    "    # Step 3: Load the Model and Tokenizer from Temporary Directory\n",
    "    model = AutoModelForQuestionAnswering.from_pretrained(temp_dir)\n",
    "    tokenizer = AutoTokenizer.from_pretrained(temp_dir)\n",
    "\n",
    "    # Step 4: Create a Question-Answering Pipeline\n",
    "    qa_pipeline = pipeline('question-answering', model=model, tokenizer=tokenizer)\n",
    "\n",
    "    # Step 5: Perform Question-Answering\n",
    "    context = \"\"\"\n",
    "    Large Language Models (LLMs) are deep learning algorithms capable of performing various natural language processing tasks.\n",
    "    They are trained on massive datasets, enabling them to recognize, translate, predict, and generate text or other content.\n",
    "    \"\"\"\n",
    "    question = \"What is LLM?\"\n",
    "\n",
    "    # Get the answer using the QA pipeline\n",
    "    result = qa_pipeline(question=question, context=context)\n",
    "\n",
    "    # Step 6: Print the Result\n",
    "    print(f\"Question: {question}\")\n",
    "    print(f\"Answer: {result['answer']}\")"
   ]
  },
  {
   "cell_type": "code",
   "execution_count": null,
   "id": "d4d97f47-1a25-4ad0-b627-b0f9eed306d5",
   "metadata": {},
   "outputs": [],
   "source": []
  }
 ],
 "metadata": {
  "kernelspec": {
   "display_name": "Python 3 (ipykernel)",
   "language": "python",
   "name": "python3"
  },
  "language_info": {
   "codemirror_mode": {
    "name": "ipython",
    "version": 3
   },
   "file_extension": ".py",
   "mimetype": "text/x-python",
   "name": "python",
   "nbconvert_exporter": "python",
   "pygments_lexer": "ipython3",
   "version": "3.12.4"
  }
 },
 "nbformat": 4,
 "nbformat_minor": 5
}
